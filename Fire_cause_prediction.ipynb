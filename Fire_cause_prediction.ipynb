{
 "cells": [
  {
   "cell_type": "code",
   "execution_count": 1,
   "source": [
    "import pandas as pd\n",
    "import matplotlib.pyplot as plt\n",
    "import scipy.stats as stats\n",
    "from sklearn import preprocessing\n",
    "from sklearn.metrics import accuracy_score, f1_score\n",
    "from sklearn.model_selection import train_test_split\n",
    "from sklearn import tree\n",
    "from sklearn.neural_network import MLPClassifier\n",
    "from sklearn.ensemble import RandomForestClassifier\n",
    "from sklearn.svm import SVC\n",
    "from sklearn.neighbors import KNeighborsClassifier\n",
    "from sklearn.linear_model import LogisticRegression\n",
    "from sklearn.ensemble import HistGradientBoostingClassifier\n",
    "from sklearn.model_selection import GridSearchCV\n",
    "from sklearn.ensemble import VotingClassifier\n",
    "from sklearn.model_selection import cross_validate\n",
    "import numpy as np\n",
    "import random"
   ],
   "outputs": [],
   "metadata": {
    "colab": {
     "background_save": true
    },
    "id": "CMIL7CwyOUJi"
   }
  },
  {
   "cell_type": "code",
   "execution_count": 2,
   "source": [
    "data_path = 'Datasets/fe_scaled_one_hot_full_2.csv'"
   ],
   "outputs": [],
   "metadata": {
    "id": "Y8fIafBbLZWn"
   }
  },
  {
   "cell_type": "code",
   "execution_count": 3,
   "source": [
    "df_fe_scaled_one_hot_full = pd.read_csv(data_path)"
   ],
   "outputs": [],
   "metadata": {
    "colab": {
     "background_save": true
    },
    "id": "MHVJ03pAONK4"
   }
  },
  {
   "cell_type": "code",
   "execution_count": 28,
   "source": [
    "df_fe_scaled_one_hot_full['STAT_CAUSE_DESCR_Structure'].sum()"
   ],
   "outputs": [
    {
     "output_type": "execute_result",
     "data": {
      "text/plain": [
       "3796"
      ]
     },
     "metadata": {},
     "execution_count": 28
    }
   ],
   "metadata": {}
  },
  {
   "cell_type": "code",
   "execution_count": 4,
   "source": [
    "columns = df_fe_scaled_one_hot_full.columns"
   ],
   "outputs": [],
   "metadata": {
    "colab": {
     "background_save": true,
     "base_uri": "https://localhost:8080/",
     "height": 300
    },
    "id": "kNR1aqhXOXdv",
    "outputId": "cec77464-3e76-460c-a4fd-f598d67780a2"
   }
  },
  {
   "cell_type": "code",
   "execution_count": 14,
   "source": [
    "columns_set1 = ['FIRE_YEAR','DISCOVERY_DATE','DISCOVERY_DOY','DISCOVERY_TIME','LATITUDE','LONGITUDE',\n",
    "                'SOURCE_SYSTEM_TYPE_FED','SOURCE_SYSTEM_TYPE_INTERAGCY','SOURCE_SYSTEM_TYPE_NONFED',\n",
    "                'NWCG_REPORTING_AGENCY_BIA','NWCG_REPORTING_AGENCY_BLM','NWCG_REPORTING_AGENCY_BOR',\n",
    "                'NWCG_REPORTING_AGENCY_DOD','NWCG_REPORTING_AGENCY_DOE','NWCG_REPORTING_AGENCY_FS',\n",
    "                'NWCG_REPORTING_AGENCY_FWS','NWCG_REPORTING_AGENCY_IA','NWCG_REPORTING_AGENCY_NPS',\n",
    "                'NWCG_REPORTING_AGENCY_ST/C&L','NWCG_REPORTING_AGENCY_TRIBE','FIRE_SIZE_CLASS_A','FIRE_SIZE_CLASS_B',\n",
    "                'FIRE_SIZE_CLASS_C','FIRE_SIZE_CLASS_D','FIRE_SIZE_CLASS_E','FIRE_SIZE_CLASS_F','FIRE_SIZE_CLASS_G',\n",
    "                'OWNER_DESCR_BIA','OWNER_DESCR_BLM','OWNER_DESCR_BOR','OWNER_DESCR_COUNTY','OWNER_DESCR_FOREIGN',\n",
    "                'OWNER_DESCR_FWS','OWNER_DESCR_MISSING/NOT SPECIFIED','OWNER_DESCR_MUNICIPAL/LOCAL','OWNER_DESCR_NPS',\n",
    "                'OWNER_DESCR_OTHER FEDERAL','OWNER_DESCR_PRIVATE','OWNER_DESCR_STATE','OWNER_DESCR_STATE OR PRIVATE',\n",
    "                'OWNER_DESCR_TRIBAL','OWNER_DESCR_UNDEFINED FEDERAL','OWNER_DESCR_USFS','STATE_AK', 'STATE_AL', \n",
    "                'STATE_AR', 'STATE_AZ', 'STATE_CA', 'STATE_CO', 'STATE_CT', 'STATE_DC', 'STATE_DE', 'STATE_FL', \n",
    "                'STATE_GA', 'STATE_HI', 'STATE_IA', 'STATE_ID', 'STATE_IL', 'STATE_IN', 'STATE_KS', 'STATE_KY', \n",
    "                'STATE_LA', 'STATE_MA', 'STATE_MD', 'STATE_ME', 'STATE_MI', 'STATE_MN', 'STATE_MO', 'STATE_MS', \n",
    "                'STATE_MT', 'STATE_NC', 'STATE_ND', 'STATE_NE', 'STATE_NH', 'STATE_NJ', 'STATE_NM', 'STATE_NV', \n",
    "                'STATE_NY', 'STATE_OH', 'STATE_OK', 'STATE_OR', 'STATE_PA', 'STATE_PR', 'STATE_RI', 'STATE_SC', \n",
    "                'STATE_SD', 'STATE_TN', 'STATE_TX', 'STATE_UT', 'STATE_VA', 'STATE_VT', 'STATE_WA', 'STATE_WI', \n",
    "                'STATE_WV', 'STATE_WY']\n",
    "# DISCOVERY_TIME,Discovery_DOY,LATITUDE,LONGITUTE, all state columns, \n",
    "\n",
    "columns_set2 = ['FIRE_YEAR','DISCOVERY_DATE','lat_lon_dist','lat_lon_angle',\n",
    "                'SOURCE_SYSTEM_TYPE_FED','SOURCE_SYSTEM_TYPE_INTERAGCY','SOURCE_SYSTEM_TYPE_NONFED',\n",
    "                'NWCG_REPORTING_AGENCY_BIA','NWCG_REPORTING_AGENCY_BLM','NWCG_REPORTING_AGENCY_BOR',\n",
    "                'NWCG_REPORTING_AGENCY_DOD','NWCG_REPORTING_AGENCY_DOE','NWCG_REPORTING_AGENCY_FS',\n",
    "                'NWCG_REPORTING_AGENCY_FWS','NWCG_REPORTING_AGENCY_IA','NWCG_REPORTING_AGENCY_NPS',\n",
    "                'NWCG_REPORTING_AGENCY_ST/C&L','NWCG_REPORTING_AGENCY_TRIBE','FIRE_SIZE_CLASS_A','FIRE_SIZE_CLASS_B',\n",
    "                'FIRE_SIZE_CLASS_C','FIRE_SIZE_CLASS_D','FIRE_SIZE_CLASS_E','FIRE_SIZE_CLASS_F','FIRE_SIZE_CLASS_G',\n",
    "                'OWNER_DESCR_BIA','OWNER_DESCR_BLM','OWNER_DESCR_BOR','OWNER_DESCR_COUNTY','OWNER_DESCR_FOREIGN',\n",
    "                'OWNER_DESCR_FWS','OWNER_DESCR_MISSING/NOT SPECIFIED','OWNER_DESCR_MUNICIPAL/LOCAL','OWNER_DESCR_NPS',\n",
    "                'OWNER_DESCR_OTHER FEDERAL','OWNER_DESCR_PRIVATE','OWNER_DESCR_STATE','OWNER_DESCR_STATE OR PRIVATE',\n",
    "                'OWNER_DESCR_TRIBAL','OWNER_DESCR_UNDEFINED FEDERAL','OWNER_DESCR_USFS','DISCOVERY_TIME_BIN_A', \n",
    "                'DISCOVERY_TIME_BIN_E', 'DISCOVERY_TIME_BIN_EM','DISCOVERY_TIME_BIN_LN', 'DISCOVERY_TIME_BIN_M',\n",
    "                'DISCOVERY_TIME_BIN_N','DISCOVERY_DOY_BIN_FALL','DISCOVERY_DOY_BIN_SPRING','DISCOVERY_DOY_BIN_SUMMER',\n",
    "                'DISCOVERY_DOY_BIN_WINTER', 'REGION_East','REGION_Mid_West', 'REGION_Mountain_West',\n",
    "                'REGION_North_East','REGION_North_West', 'REGION_Pacific_West', 'REGION_South','REGION_South_East']"
   ],
   "outputs": [],
   "metadata": {}
  },
  {
   "cell_type": "code",
   "execution_count": 15,
   "source": [
    "len(columns_set1)"
   ],
   "outputs": [
    {
     "output_type": "execute_result",
     "data": {
      "text/plain": [
       "95"
      ]
     },
     "metadata": {},
     "execution_count": 15
    }
   ],
   "metadata": {}
  },
  {
   "cell_type": "code",
   "execution_count": 16,
   "source": [
    "len(columns_set2)"
   ],
   "outputs": [
    {
     "output_type": "execute_result",
     "data": {
      "text/plain": [
       "59"
      ]
     },
     "metadata": {},
     "execution_count": 16
    }
   ],
   "metadata": {}
  },
  {
   "cell_type": "code",
   "execution_count": 6,
   "source": [
    "for column in df_fe_scaled_one_hot_full.columns:\n",
    "  if df_fe_scaled_one_hot_full[column].isna().sum()!=0:\n",
    "    print(column) #no column with na values...good!"
   ],
   "outputs": [],
   "metadata": {
    "colab": {
     "background_save": true
    },
    "id": "woYcWC3L220Z"
   }
  },
  {
   "cell_type": "code",
   "execution_count": 138,
   "source": [
    "#do not need below lines because we are choosing columns according to the requirements from above cell\n",
    "# df_dropped_state = df_fe_scaled_one_hot_full.copy()\n",
    "# state_columns = [col for col in df_dropped_state.columns if 'state_' in col.lower()]\n",
    "# df_dropped_state = df_dropped_state.drop(columns = state_columns)"
   ],
   "outputs": [],
   "metadata": {
    "colab": {
     "background_save": true
    },
    "id": "W6CoAg3QOlWB"
   }
  },
  {
   "cell_type": "code",
   "execution_count": 5,
   "source": [
    "columns_to_predict = []\n",
    "for column in df_fe_scaled_one_hot_full.columns:\n",
    "  if 'STAT_CAUSE_DESCR' in str(column):\n",
    "    columns_to_predict.append(column)\n",
    "print(columns_to_predict)"
   ],
   "outputs": [
    {
     "output_type": "stream",
     "name": "stdout",
     "text": [
      "['STAT_CAUSE_DESCR_Arson', 'STAT_CAUSE_DESCR_Campfire', 'STAT_CAUSE_DESCR_Children', 'STAT_CAUSE_DESCR_Debris Burning', 'STAT_CAUSE_DESCR_Equipment Use', 'STAT_CAUSE_DESCR_Fireworks', 'STAT_CAUSE_DESCR_Lightning', 'STAT_CAUSE_DESCR_Miscellaneous', 'STAT_CAUSE_DESCR_Missing/Undefined', 'STAT_CAUSE_DESCR_Powerline', 'STAT_CAUSE_DESCR_Railroad', 'STAT_CAUSE_DESCR_Smoking', 'STAT_CAUSE_DESCR_Structure']\n"
     ]
    }
   ],
   "metadata": {}
  },
  {
   "cell_type": "code",
   "execution_count": 6,
   "source": [
    "df_fe_scaled_one_hot_full['STAT_CAUSE_DESCR'] = 'None'\n",
    "i=1\n",
    "for column in columns_to_predict:\n",
    "  df_fe_scaled_one_hot_full.loc[df_fe_scaled_one_hot_full[column] == 1,'STAT_CAUSE_DESCR']= i\n",
    "  i+=1"
   ],
   "outputs": [],
   "metadata": {}
  },
  {
   "cell_type": "code",
   "execution_count": 7,
   "source": [
    "df_fe_scaled_one_hot_full.head()"
   ],
   "outputs": [
    {
     "output_type": "execute_result",
     "data": {
      "text/html": [
       "<div>\n",
       "<style scoped>\n",
       "    .dataframe tbody tr th:only-of-type {\n",
       "        vertical-align: middle;\n",
       "    }\n",
       "\n",
       "    .dataframe tbody tr th {\n",
       "        vertical-align: top;\n",
       "    }\n",
       "\n",
       "    .dataframe thead th {\n",
       "        text-align: right;\n",
       "    }\n",
       "</style>\n",
       "<table border=\"1\" class=\"dataframe\">\n",
       "  <thead>\n",
       "    <tr style=\"text-align: right;\">\n",
       "      <th></th>\n",
       "      <th>Unnamed: 0</th>\n",
       "      <th>FIRE_YEAR</th>\n",
       "      <th>DISCOVERY_DATE</th>\n",
       "      <th>DISCOVERY_DOY</th>\n",
       "      <th>DISCOVERY_TIME</th>\n",
       "      <th>LATITUDE</th>\n",
       "      <th>LONGITUDE</th>\n",
       "      <th>lat_lon_dist</th>\n",
       "      <th>lat_lon_angle</th>\n",
       "      <th>SOURCE_SYSTEM_TYPE_FED</th>\n",
       "      <th>...</th>\n",
       "      <th>DISCOVERY_DOY_BIN_WINTER</th>\n",
       "      <th>REGION_East</th>\n",
       "      <th>REGION_Mid_West</th>\n",
       "      <th>REGION_Mountain_West</th>\n",
       "      <th>REGION_North_East</th>\n",
       "      <th>REGION_North_West</th>\n",
       "      <th>REGION_Pacific_West</th>\n",
       "      <th>REGION_South</th>\n",
       "      <th>REGION_South_East</th>\n",
       "      <th>STAT_CAUSE_DESCR</th>\n",
       "    </tr>\n",
       "  </thead>\n",
       "  <tbody>\n",
       "    <tr>\n",
       "      <th>0</th>\n",
       "      <td>0</td>\n",
       "      <td>0.193607</td>\n",
       "      <td>0.139590</td>\n",
       "      <td>-1.462914</td>\n",
       "      <td>-0.517416</td>\n",
       "      <td>0.530333</td>\n",
       "      <td>-1.513488</td>\n",
       "      <td>1.507126</td>\n",
       "      <td>-1.222123</td>\n",
       "      <td>1</td>\n",
       "      <td>...</td>\n",
       "      <td>1</td>\n",
       "      <td>0</td>\n",
       "      <td>0</td>\n",
       "      <td>0</td>\n",
       "      <td>0</td>\n",
       "      <td>0</td>\n",
       "      <td>1</td>\n",
       "      <td>0</td>\n",
       "      <td>0</td>\n",
       "      <td>8</td>\n",
       "    </tr>\n",
       "    <tr>\n",
       "      <th>1</th>\n",
       "      <td>1</td>\n",
       "      <td>0.043527</td>\n",
       "      <td>0.030331</td>\n",
       "      <td>-0.352283</td>\n",
       "      <td>-2.056039</td>\n",
       "      <td>0.350518</td>\n",
       "      <td>-1.477513</td>\n",
       "      <td>1.470465</td>\n",
       "      <td>-1.223782</td>\n",
       "      <td>1</td>\n",
       "      <td>...</td>\n",
       "      <td>0</td>\n",
       "      <td>0</td>\n",
       "      <td>0</td>\n",
       "      <td>0</td>\n",
       "      <td>0</td>\n",
       "      <td>0</td>\n",
       "      <td>1</td>\n",
       "      <td>0</td>\n",
       "      <td>0</td>\n",
       "      <td>7</td>\n",
       "    </tr>\n",
       "    <tr>\n",
       "      <th>2</th>\n",
       "      <td>2</td>\n",
       "      <td>0.043527</td>\n",
       "      <td>0.038135</td>\n",
       "      <td>-0.141263</td>\n",
       "      <td>1.582551</td>\n",
       "      <td>0.358844</td>\n",
       "      <td>-1.497320</td>\n",
       "      <td>1.490275</td>\n",
       "      <td>-1.223709</td>\n",
       "      <td>1</td>\n",
       "      <td>...</td>\n",
       "      <td>0</td>\n",
       "      <td>0</td>\n",
       "      <td>0</td>\n",
       "      <td>0</td>\n",
       "      <td>0</td>\n",
       "      <td>0</td>\n",
       "      <td>1</td>\n",
       "      <td>0</td>\n",
       "      <td>0</td>\n",
       "      <td>4</td>\n",
       "    </tr>\n",
       "    <tr>\n",
       "      <th>3</th>\n",
       "      <td>3</td>\n",
       "      <td>0.043527</td>\n",
       "      <td>0.049636</td>\n",
       "      <td>0.169714</td>\n",
       "      <td>0.497061</td>\n",
       "      <td>0.289615</td>\n",
       "      <td>-1.448135</td>\n",
       "      <td>1.440951</td>\n",
       "      <td>-1.224343</td>\n",
       "      <td>1</td>\n",
       "      <td>...</td>\n",
       "      <td>0</td>\n",
       "      <td>0</td>\n",
       "      <td>0</td>\n",
       "      <td>0</td>\n",
       "      <td>0</td>\n",
       "      <td>0</td>\n",
       "      <td>1</td>\n",
       "      <td>0</td>\n",
       "      <td>0</td>\n",
       "      <td>7</td>\n",
       "    </tr>\n",
       "    <tr>\n",
       "      <th>4</th>\n",
       "      <td>4</td>\n",
       "      <td>0.043527</td>\n",
       "      <td>0.049636</td>\n",
       "      <td>0.169714</td>\n",
       "      <td>0.497061</td>\n",
       "      <td>0.289615</td>\n",
       "      <td>-1.449315</td>\n",
       "      <td>1.442129</td>\n",
       "      <td>-1.224343</td>\n",
       "      <td>1</td>\n",
       "      <td>...</td>\n",
       "      <td>0</td>\n",
       "      <td>0</td>\n",
       "      <td>0</td>\n",
       "      <td>0</td>\n",
       "      <td>0</td>\n",
       "      <td>0</td>\n",
       "      <td>1</td>\n",
       "      <td>0</td>\n",
       "      <td>0</td>\n",
       "      <td>7</td>\n",
       "    </tr>\n",
       "  </tbody>\n",
       "</table>\n",
       "<p>5 rows × 130 columns</p>\n",
       "</div>"
      ],
      "text/plain": [
       "   Unnamed: 0  FIRE_YEAR  DISCOVERY_DATE  DISCOVERY_DOY  DISCOVERY_TIME  \\\n",
       "0           0   0.193607        0.139590      -1.462914       -0.517416   \n",
       "1           1   0.043527        0.030331      -0.352283       -2.056039   \n",
       "2           2   0.043527        0.038135      -0.141263        1.582551   \n",
       "3           3   0.043527        0.049636       0.169714        0.497061   \n",
       "4           4   0.043527        0.049636       0.169714        0.497061   \n",
       "\n",
       "   LATITUDE  LONGITUDE  lat_lon_dist  lat_lon_angle  SOURCE_SYSTEM_TYPE_FED  \\\n",
       "0  0.530333  -1.513488      1.507126      -1.222123                       1   \n",
       "1  0.350518  -1.477513      1.470465      -1.223782                       1   \n",
       "2  0.358844  -1.497320      1.490275      -1.223709                       1   \n",
       "3  0.289615  -1.448135      1.440951      -1.224343                       1   \n",
       "4  0.289615  -1.449315      1.442129      -1.224343                       1   \n",
       "\n",
       "   ...  DISCOVERY_DOY_BIN_WINTER  REGION_East  REGION_Mid_West  \\\n",
       "0  ...                         1            0                0   \n",
       "1  ...                         0            0                0   \n",
       "2  ...                         0            0                0   \n",
       "3  ...                         0            0                0   \n",
       "4  ...                         0            0                0   \n",
       "\n",
       "   REGION_Mountain_West  REGION_North_East  REGION_North_West  \\\n",
       "0                     0                  0                  0   \n",
       "1                     0                  0                  0   \n",
       "2                     0                  0                  0   \n",
       "3                     0                  0                  0   \n",
       "4                     0                  0                  0   \n",
       "\n",
       "   REGION_Pacific_West  REGION_South  REGION_South_East  STAT_CAUSE_DESCR  \n",
       "0                    1             0                  0                 8  \n",
       "1                    1             0                  0                 7  \n",
       "2                    1             0                  0                 4  \n",
       "3                    1             0                  0                 7  \n",
       "4                    1             0                  0                 7  \n",
       "\n",
       "[5 rows x 130 columns]"
      ]
     },
     "metadata": {},
     "execution_count": 7
    }
   ],
   "metadata": {}
  },
  {
   "cell_type": "code",
   "execution_count": 8,
   "source": [
    "X = df_fe_scaled_one_hot_full[columns_set1]\n",
    "# X2 = df_fe_scaled_one_hot_full[columns_set2]\n",
    "Y = df_fe_scaled_one_hot_full['STAT_CAUSE_DESCR']\n",
    "# Y = Y.astype('int')"
   ],
   "outputs": [],
   "metadata": {}
  },
  {
   "cell_type": "code",
   "execution_count": 24,
   "source": [
    "x_train,x_valid,y_train,y_valid = train_test_split(X,Y,test_size = 0.2)\n",
    "# x_train2,x_valid2,y_train,y_valid = train_test_split(X2,Y,test_size = 0.2)"
   ],
   "outputs": [],
   "metadata": {}
  },
  {
   "cell_type": "code",
   "execution_count": 25,
   "source": [
    "x_train = x_train.to_numpy()\n",
    "# x_train2 = x_train2.to_numpy()\n",
    "y_train = y_train.to_numpy()\n",
    "y_train = y_train.astype('int')\n",
    "x_valid = x_valid.to_numpy()\n",
    "# x_valid2 = x_valid2.to_numpy()\n",
    "y_valid = y_valid.to_numpy()\n",
    "y_valid = y_valid.astype('int')"
   ],
   "outputs": [],
   "metadata": {}
  },
  {
   "cell_type": "markdown",
   "source": [
    "First, check the baselines once again with the normal data"
   ],
   "metadata": {}
  },
  {
   "cell_type": "code",
   "execution_count": 27,
   "source": [
    "histgb = HistGradientBoostingClassifier().fit(x_train, y_train)\n",
    "y_pred = histgb.predict(x_valid)\n",
    "accuracy = accuracy_score(y_valid,y_pred)\n",
    "accuracy"
   ],
   "outputs": [
    {
     "output_type": "execute_result",
     "data": {
      "text/plain": [
       "0.5413368501939679"
      ]
     },
     "metadata": {},
     "execution_count": 27
    }
   ],
   "metadata": {}
  },
  {
   "cell_type": "code",
   "execution_count": 26,
   "source": [
    "RFC = RandomForestClassifier(max_depth=100, random_state=0,bootstrap=True,n_jobs=-1).fit(x_train, y_train)\n",
    "y_pred = RFC.predict(x_valid)\n",
    "accuracy = accuracy_score(y_valid,y_pred)\n",
    "accuracy"
   ],
   "outputs": [
    {
     "output_type": "execute_result",
     "data": {
      "text/plain": [
       "0.597679297407822"
      ]
     },
     "metadata": {},
     "execution_count": 26
    }
   ],
   "metadata": {}
  },
  {
   "cell_type": "code",
   "execution_count": 28,
   "source": [
    "MLP_classifier = MLPClassifier(solver = 'lbfgs',alpha = 1e-2, hidden_layer_sizes = (64,32,32),\n",
    "                               random_state = 1,verbose=False, max_iter=200,activation = 'relu')\n",
    "MLP_classifier.fit(x_train,y_train)\n",
    "y_pred= MLP_classifier.predict(x_valid)\n",
    "accuracy = accuracy_score(y_valid,y_pred)\n",
    "accuracy\n"
   ],
   "outputs": [
    {
     "output_type": "stream",
     "name": "stderr",
     "text": [
      "/Users/manikantamandlem/miniconda3/lib/python3.9/site-packages/sklearn/neural_network/_multilayer_perceptron.py:549: ConvergenceWarning: lbfgs failed to converge (status=1):\n",
      "STOP: TOTAL NO. of ITERATIONS REACHED LIMIT.\n",
      "\n",
      "Increase the number of iterations (max_iter) or scale the data as shown in:\n",
      "    https://scikit-learn.org/stable/modules/preprocessing.html\n",
      "  self.n_iter_ = _check_optimize_result(\"lbfgs\", opt_res, self.max_iter)\n"
     ]
    },
    {
     "output_type": "execute_result",
     "data": {
      "text/plain": [
       "0.5313738889051378"
      ]
     },
     "metadata": {},
     "execution_count": 28
    }
   ],
   "metadata": {}
  },
  {
   "cell_type": "markdown",
   "source": [
    "Now checking how the baselines look like with feature engineered data"
   ],
   "metadata": {}
  },
  {
   "cell_type": "code",
   "execution_count": 17,
   "source": [
    "histgb = HistGradientBoostingClassifier().fit(x_train2, y_train)\n",
    "y_pred = histgb.predict(x_valid2)\n",
    "accuracy = accuracy_score(y_valid,y_pred)\n",
    "accuracy"
   ],
   "outputs": [
    {
     "output_type": "execute_result",
     "data": {
      "text/plain": [
       "0.5612175711858504"
      ]
     },
     "metadata": {},
     "execution_count": 17
    }
   ],
   "metadata": {}
  },
  {
   "cell_type": "code",
   "execution_count": 16,
   "source": [
    "RFC = RandomForestClassifier(max_depth=100, random_state=0,bootstrap=True,n_jobs=-1).fit(x_train2, y_train)\n",
    "y_pred = RFC.predict(x_valid2)\n",
    "accuracy = accuracy_score(y_valid,y_pred)\n",
    "accuracy"
   ],
   "outputs": [
    {
     "output_type": "execute_result",
     "data": {
      "text/plain": [
       "0.5805532142315863"
      ]
     },
     "metadata": {},
     "execution_count": 16
    }
   ],
   "metadata": {}
  },
  {
   "cell_type": "code",
   "execution_count": null,
   "source": [
    "# We will not be using MLP with feature engineering data by assuming that feature engineering is not needed for MLP\n",
    "# MLP_classifier = MLPClassifier(solver = 'lbfgs',alpha = 1e-2, hidden_layer_sizes = (64,32,32),\n",
    "#                                random_state = 1,verbose=False, max_iter=200,activation = 'relu')\n",
    "# MLP_classifier.fit(x_train2,y_train)\n",
    "# y_pred= MLP_classifier.predict(x_valid)\n",
    "# accuracy = accuracy_score(y_valid,y_pred)\n",
    "# accuracy"
   ],
   "outputs": [],
   "metadata": {}
  },
  {
   "cell_type": "markdown",
   "source": [
    "Now we will do grid search cv to find best parameters for each of the below classifiers\n",
    "First, grid search cv for histGradientBoostClassifier\n",
    "Second, RandomForestClassifier\n",
    "Third, Neural Network\n",
    "Fourth, ExtraTreesClassifier\n",
    "Fifth, Decision Tree CV with VotingClassifier"
   ],
   "metadata": {}
  },
  {
   "cell_type": "code",
   "execution_count": 34,
   "source": [
    "# parameters = {#'loss':['log_loss', 'auto', 'binary_crossentropy', 'categorical_crossentropy'],\n",
    "#                 'loss':['categorical_crossentropy','auto']}\n",
    "# #               'learning_rate':[0.001,0.005,0.01,0.05,0.1,0.2,0.3,0.4,0.5]},\n",
    "# #                 'learning_rate':[0.2],\n",
    "# #                 'max_leaf_nodes':[5,10,15,20,25,30,35,40,45,50]}\n",
    "# #                 'max_leaf_nodes':[45],\n",
    "# #               'max_iter':[100],\n",
    "#               'max_depth':[5,10,15,20,25,30,35,40,50,60,70,None]}\n",
    "# #                 'max_depth':[70],\n",
    "# #               'min_samples_leaf':[5,10,15,20,25,30,35,40,50,60,80,100]}\n",
    "# #                 'min_samples_leaf':[100]}\n",
    "# #               'l2_regularization':[0]}\n",
    "# parameters"
   ],
   "outputs": [
    {
     "output_type": "execute_result",
     "data": {
      "text/plain": [
       "{'loss': ['categorical_crossentropy', 'auto']}"
      ]
     },
     "metadata": {},
     "execution_count": 34
    }
   ],
   "metadata": {
    "colab": {
     "background_save": true
    },
    "id": "m6UBd88cFOPh"
   }
  },
  {
   "cell_type": "code",
   "execution_count": 35,
   "source": [
    "# histgb = HistGradientBoostingClassifier()\n",
    "# clf = GridSearchCV(histgb, parameters)\n",
    "# histgb_results = clf.fit(x_train,y_train)"
   ],
   "outputs": [],
   "metadata": {
    "id": "qYejBr95Jre4"
   }
  },
  {
   "cell_type": "code",
   "execution_count": 36,
   "source": [
    "# histgb_result = pd.DataFrame.from_dict(histgb_results.cv_results_)\n",
    "# histgb_result[histgb_result['rank_test_score']==1]"
   ],
   "outputs": [
    {
     "output_type": "execute_result",
     "data": {
      "text/html": [
       "<div>\n",
       "<style scoped>\n",
       "    .dataframe tbody tr th:only-of-type {\n",
       "        vertical-align: middle;\n",
       "    }\n",
       "\n",
       "    .dataframe tbody tr th {\n",
       "        vertical-align: top;\n",
       "    }\n",
       "\n",
       "    .dataframe thead th {\n",
       "        text-align: right;\n",
       "    }\n",
       "</style>\n",
       "<table border=\"1\" class=\"dataframe\">\n",
       "  <thead>\n",
       "    <tr style=\"text-align: right;\">\n",
       "      <th></th>\n",
       "      <th>mean_fit_time</th>\n",
       "      <th>std_fit_time</th>\n",
       "      <th>mean_score_time</th>\n",
       "      <th>std_score_time</th>\n",
       "      <th>param_loss</th>\n",
       "      <th>params</th>\n",
       "      <th>split0_test_score</th>\n",
       "      <th>split1_test_score</th>\n",
       "      <th>split2_test_score</th>\n",
       "      <th>split3_test_score</th>\n",
       "      <th>split4_test_score</th>\n",
       "      <th>mean_test_score</th>\n",
       "      <th>std_test_score</th>\n",
       "      <th>rank_test_score</th>\n",
       "    </tr>\n",
       "  </thead>\n",
       "  <tbody>\n",
       "    <tr>\n",
       "      <th>0</th>\n",
       "      <td>39.15159</td>\n",
       "      <td>15.407636</td>\n",
       "      <td>0.784417</td>\n",
       "      <td>0.031106</td>\n",
       "      <td>categorical_crossentropy</td>\n",
       "      <td>{'loss': 'categorical_crossentropy'}</td>\n",
       "      <td>0.228194</td>\n",
       "      <td>0.228165</td>\n",
       "      <td>0.228122</td>\n",
       "      <td>0.228125</td>\n",
       "      <td>0.228112</td>\n",
       "      <td>0.228144</td>\n",
       "      <td>0.000031</td>\n",
       "      <td>1</td>\n",
       "    </tr>\n",
       "  </tbody>\n",
       "</table>\n",
       "</div>"
      ],
      "text/plain": [
       "   mean_fit_time  std_fit_time  mean_score_time  std_score_time  \\\n",
       "0       39.15159     15.407636         0.784417        0.031106   \n",
       "\n",
       "                 param_loss                                params  \\\n",
       "0  categorical_crossentropy  {'loss': 'categorical_crossentropy'}   \n",
       "\n",
       "   split0_test_score  split1_test_score  split2_test_score  split3_test_score  \\\n",
       "0           0.228194           0.228165           0.228122           0.228125   \n",
       "\n",
       "   split4_test_score  mean_test_score  std_test_score  rank_test_score  \n",
       "0           0.228112         0.228144        0.000031                1  "
      ]
     },
     "metadata": {},
     "execution_count": 36
    }
   ],
   "metadata": {
    "id": "2VfpfKqMKls9"
   }
  },
  {
   "cell_type": "code",
   "execution_count": 233,
   "source": [
    "# histgb = HistGradientBoostingClassifier(loss='binary_crossentropy',learning_rate=0.2,max_leaf_nodes=45,\n",
    "#                                         max_depth=70,min_samples_leaf=100)\n",
    "# histgb.fit(x_train,y_train)\n",
    "# y_pred = histgb.predict(x_valid)\n",
    "# accuracy = accuracy_score(y_valid,y_pred)\n",
    "# accuracy"
   ],
   "outputs": [
    {
     "output_type": "execute_result",
     "data": {
      "text/plain": [
       "0.8505821698356524"
      ]
     },
     "metadata": {},
     "execution_count": 233
    }
   ],
   "metadata": {}
  },
  {
   "cell_type": "code",
   "execution_count": null,
   "source": [],
   "outputs": [],
   "metadata": {}
  },
  {
   "cell_type": "code",
   "execution_count": null,
   "source": [
    "#hist gradient boosting classifier on feature engineered data"
   ],
   "outputs": [],
   "metadata": {}
  },
  {
   "cell_type": "code",
   "execution_count": 28,
   "source": [
    "# parameters = {#'loss':['log_loss', 'auto', 'binary_crossentropy', 'categorical_crossentropy'],\n",
    "#                 'loss':['auto'],\n",
    "#               'learning_rate':[0.1],#0.556\n",
    "# #                 'learning_rate':[0.5],\n",
    "#                 'max_leaf_nodes':[110,150,None]} #110 - 0.57\n",
    "# #                 'max_leaf_nodes':[300],\n",
    "# #               'max_iter':[100],\n",
    "# #               'max_depth':[5,10,15,20,25,30,35,40,50,60,70,None]}\n",
    "# #                 'max_depth':[100],\n",
    "# #               'min_samples_leaf':[5,10,15,20,25,30,35,40,50,60,80,100]}\n",
    "# #                 'min_samples_leaf':[120]}\n",
    "# #               'l2_regularization':[0]}\n",
    "# parameters"
   ],
   "outputs": [
    {
     "output_type": "execute_result",
     "data": {
      "text/plain": [
       "{'loss': ['auto'], 'learning_rate': [0.1], 'max_leaf_nodes': [110, 150, None]}"
      ]
     },
     "metadata": {},
     "execution_count": 28
    }
   ],
   "metadata": {}
  },
  {
   "cell_type": "code",
   "execution_count": null,
   "source": [
    "# histgb = HistGradientBoostingClassifier()\n",
    "# clf = GridSearchCV(histgb, parameters)\n",
    "# histgb_results = clf.fit(x_train2,y_train)"
   ],
   "outputs": [],
   "metadata": {}
  },
  {
   "cell_type": "code",
   "execution_count": null,
   "source": [
    "# histgb_result = pd.DataFrame.from_dict(histgb_results.cv_results_)\n",
    "# histgb_result[histgb_result['rank_test_score']==1]"
   ],
   "outputs": [],
   "metadata": {}
  },
  {
   "cell_type": "code",
   "execution_count": null,
   "source": [
    "# histgb = HistGradientBoostingClassifier(loss='binary_crossentropy',learning_rate=0.5,max_leaf_nodes=300,\n",
    "#                                         max_depth=100,min_samples_leaf=120)\n",
    "# histgb.fit(x_train2,y_train)\n",
    "# y_pred = histgb.predict(x_valid2)\n",
    "# accuracy = accuracy_score(y_valid,y_pred)\n",
    "# accuracy"
   ],
   "outputs": [],
   "metadata": {}
  },
  {
   "cell_type": "code",
   "execution_count": 9,
   "source": [
    "x_train,x_valid,y_train,y_valid = train_test_split(X,Y,test_size = 0.1)\n",
    "# x_train2,x_valid2,y_train,y_valid = train_test_split(X2,Y,test_size = 0.1)"
   ],
   "outputs": [],
   "metadata": {}
  },
  {
   "cell_type": "code",
   "execution_count": 10,
   "source": [
    "x_train = x_train.to_numpy()\n",
    "# x_train2 = x_train2.to_numpy()\n",
    "y_train = y_train.to_numpy()\n",
    "y_train = y_train.astype('int')\n",
    "x_valid = x_valid.to_numpy()\n",
    "# x_valid2 = x_valid2.to_numpy()\n",
    "y_valid = y_valid.to_numpy()\n",
    "y_valid = y_valid.astype('int')"
   ],
   "outputs": [],
   "metadata": {}
  },
  {
   "cell_type": "code",
   "execution_count": 18,
   "source": [
    "len(x_valid)"
   ],
   "outputs": [
    {
     "output_type": "execute_result",
     "data": {
      "text/plain": [
       "188047"
      ]
     },
     "metadata": {},
     "execution_count": 18
    }
   ],
   "metadata": {}
  },
  {
   "cell_type": "code",
   "execution_count": null,
   "source": [
    "#RandomForestClassifier on normal data #baseline is 0.597"
   ],
   "outputs": [],
   "metadata": {}
  },
  {
   "cell_type": "code",
   "execution_count": 60,
   "source": [
    "parameters = {\n",
    "    'criterion':['gini'], #“gini”, “entropy”, “log_loss” 0.549..\n",
    "    'max_depth' : [120], #0.55\n",
    "    'bootstrap' : [True], #0.55\n",
    "#     'max_depth':[20],\n",
    "    'min_samples_split':[20,15],#0.56\n",
    "    'min_samples_leaf':[1,5],#0.565\n",
    "    'max_features':['sqrt', 'log2', None,0.7,0.8,0.9], #0.57\n",
    "    'n_jobs':[-1]\n",
    "#     ''\n",
    "}"
   ],
   "outputs": [],
   "metadata": {}
  },
  {
   "cell_type": "code",
   "execution_count": null,
   "source": [
    "RFC = RandomForestClassifier()\n",
    "RFC_clf = GridSearchCV(RFC, parameters)\n",
    "rfc_results = RFC_clf.fit(x_train,y_train)"
   ],
   "outputs": [],
   "metadata": {
    "id": "fsu9Yvh7Sezz"
   }
  },
  {
   "cell_type": "code",
   "execution_count": 62,
   "source": [
    "rfc_result = pd.DataFrame.from_dict(rfc_results.cv_results_)\n",
    "rfc_result[rfc_result['rank_test_score']==1]"
   ],
   "outputs": [
    {
     "output_type": "execute_result",
     "data": {
      "text/html": [
       "<div>\n",
       "<style scoped>\n",
       "    .dataframe tbody tr th:only-of-type {\n",
       "        vertical-align: middle;\n",
       "    }\n",
       "\n",
       "    .dataframe tbody tr th {\n",
       "        vertical-align: top;\n",
       "    }\n",
       "\n",
       "    .dataframe thead th {\n",
       "        text-align: right;\n",
       "    }\n",
       "</style>\n",
       "<table border=\"1\" class=\"dataframe\">\n",
       "  <thead>\n",
       "    <tr style=\"text-align: right;\">\n",
       "      <th></th>\n",
       "      <th>mean_fit_time</th>\n",
       "      <th>std_fit_time</th>\n",
       "      <th>mean_score_time</th>\n",
       "      <th>std_score_time</th>\n",
       "      <th>param_bootstrap</th>\n",
       "      <th>param_criterion</th>\n",
       "      <th>param_max_depth</th>\n",
       "      <th>param_max_features</th>\n",
       "      <th>param_min_samples_leaf</th>\n",
       "      <th>param_min_samples_split</th>\n",
       "      <th>param_n_jobs</th>\n",
       "      <th>params</th>\n",
       "      <th>split0_test_score</th>\n",
       "      <th>split1_test_score</th>\n",
       "      <th>split2_test_score</th>\n",
       "      <th>split3_test_score</th>\n",
       "      <th>split4_test_score</th>\n",
       "      <th>mean_test_score</th>\n",
       "      <th>std_test_score</th>\n",
       "      <th>rank_test_score</th>\n",
       "    </tr>\n",
       "  </thead>\n",
       "  <tbody>\n",
       "    <tr>\n",
       "      <th>13</th>\n",
       "      <td>24.598534</td>\n",
       "      <td>0.757016</td>\n",
       "      <td>0.329448</td>\n",
       "      <td>0.040468</td>\n",
       "      <td>True</td>\n",
       "      <td>gini</td>\n",
       "      <td>120</td>\n",
       "      <td>0.7</td>\n",
       "      <td>1</td>\n",
       "      <td>15</td>\n",
       "      <td>-1</td>\n",
       "      <td>{'bootstrap': True, 'criterion': 'gini', 'max_...</td>\n",
       "      <td>0.575166</td>\n",
       "      <td>0.572124</td>\n",
       "      <td>0.575368</td>\n",
       "      <td>0.57114</td>\n",
       "      <td>0.575793</td>\n",
       "      <td>0.573918</td>\n",
       "      <td>0.001903</td>\n",
       "      <td>1</td>\n",
       "    </tr>\n",
       "  </tbody>\n",
       "</table>\n",
       "</div>"
      ],
      "text/plain": [
       "    mean_fit_time  std_fit_time  mean_score_time  std_score_time  \\\n",
       "13      24.598534      0.757016         0.329448        0.040468   \n",
       "\n",
       "   param_bootstrap param_criterion param_max_depth param_max_features  \\\n",
       "13            True            gini             120                0.7   \n",
       "\n",
       "   param_min_samples_leaf param_min_samples_split param_n_jobs  \\\n",
       "13                      1                      15           -1   \n",
       "\n",
       "                                               params  split0_test_score  \\\n",
       "13  {'bootstrap': True, 'criterion': 'gini', 'max_...           0.575166   \n",
       "\n",
       "    split1_test_score  split2_test_score  split3_test_score  \\\n",
       "13           0.572124           0.575368            0.57114   \n",
       "\n",
       "    split4_test_score  mean_test_score  std_test_score  rank_test_score  \n",
       "13           0.575793         0.573918        0.001903                1  "
      ]
     },
     "metadata": {},
     "execution_count": 62
    }
   ],
   "metadata": {}
  },
  {
   "cell_type": "markdown",
   "source": [
    "Now, testing on full dataset with validation data"
   ],
   "metadata": {}
  },
  {
   "cell_type": "code",
   "execution_count": 11,
   "source": [
    "RFC = RandomForestClassifier(criterion='gini',max_depth=150,bootstrap=True,min_samples_split=10,min_samples_leaf=1,\n",
    "                            max_features=0.7,n_jobs=-1,random_state=0)\n",
    "\n",
    "RFC.fit(x_train,y_train)\n",
    "\n",
    "y_pred = RFC.predict(x_valid)\n",
    "accuracy = accuracy_score(y_valid,y_pred)"
   ],
   "outputs": [],
   "metadata": {}
  },
  {
   "cell_type": "code",
   "execution_count": 12,
   "source": [
    "accuracy"
   ],
   "outputs": [
    {
     "output_type": "execute_result",
     "data": {
      "text/plain": [
       "0.6188665599557558"
      ]
     },
     "metadata": {},
     "execution_count": 12
    }
   ],
   "metadata": {}
  },
  {
   "cell_type": "code",
   "execution_count": 13,
   "source": [
    "f1score = f1_score(y_valid,y_pred,average='weighted')\n",
    "f1score"
   ],
   "outputs": [
    {
     "output_type": "execute_result",
     "data": {
      "text/plain": [
       "0.6009399663615503"
      ]
     },
     "metadata": {},
     "execution_count": 13
    }
   ],
   "metadata": {}
  },
  {
   "cell_type": "markdown",
   "source": [
    "Below is with feature engineered data"
   ],
   "metadata": {}
  },
  {
   "cell_type": "code",
   "execution_count": 33,
   "source": [
    "parameters = {\n",
    "    'criterion':['entropy'], #“gini”, “entropy”, “log_loss” 0.53\n",
    "    'max_depth' : [30], #0.53\n",
    "    'bootstrap' : [True], #0.53\n",
    "    'min_samples_split':[10],#0.55\n",
    "    'min_samples_leaf':[1], #0.55\n",
    "    'max_features':[0.7],#0.57\n",
    "    'n_jobs':[-1]\n",
    "#     ''\n",
    "}"
   ],
   "outputs": [],
   "metadata": {}
  },
  {
   "cell_type": "code",
   "execution_count": 34,
   "source": [
    "RFC = RandomForestClassifier()\n",
    "RFC_clf = GridSearchCV(RFC, parameters)\n",
    "rfc_results = RFC_clf.fit(x_train2,y_train)"
   ],
   "outputs": [],
   "metadata": {
    "id": "UMghzsteTugf"
   }
  },
  {
   "cell_type": "code",
   "execution_count": 35,
   "source": [
    "rfc_result = pd.DataFrame.from_dict(rfc_results.cv_results_)\n",
    "rfc_result[rfc_result['rank_test_score']==1]"
   ],
   "outputs": [
    {
     "output_type": "execute_result",
     "data": {
      "text/html": [
       "<div>\n",
       "<style scoped>\n",
       "    .dataframe tbody tr th:only-of-type {\n",
       "        vertical-align: middle;\n",
       "    }\n",
       "\n",
       "    .dataframe tbody tr th {\n",
       "        vertical-align: top;\n",
       "    }\n",
       "\n",
       "    .dataframe thead th {\n",
       "        text-align: right;\n",
       "    }\n",
       "</style>\n",
       "<table border=\"1\" class=\"dataframe\">\n",
       "  <thead>\n",
       "    <tr style=\"text-align: right;\">\n",
       "      <th></th>\n",
       "      <th>mean_fit_time</th>\n",
       "      <th>std_fit_time</th>\n",
       "      <th>mean_score_time</th>\n",
       "      <th>std_score_time</th>\n",
       "      <th>param_bootstrap</th>\n",
       "      <th>param_criterion</th>\n",
       "      <th>param_max_depth</th>\n",
       "      <th>param_max_features</th>\n",
       "      <th>param_min_samples_leaf</th>\n",
       "      <th>param_min_samples_split</th>\n",
       "      <th>param_n_jobs</th>\n",
       "      <th>params</th>\n",
       "      <th>split0_test_score</th>\n",
       "      <th>split1_test_score</th>\n",
       "      <th>split2_test_score</th>\n",
       "      <th>split3_test_score</th>\n",
       "      <th>split4_test_score</th>\n",
       "      <th>mean_test_score</th>\n",
       "      <th>std_test_score</th>\n",
       "      <th>rank_test_score</th>\n",
       "    </tr>\n",
       "  </thead>\n",
       "  <tbody>\n",
       "    <tr>\n",
       "      <th>3</th>\n",
       "      <td>30.241315</td>\n",
       "      <td>0.518757</td>\n",
       "      <td>0.329206</td>\n",
       "      <td>0.022174</td>\n",
       "      <td>True</td>\n",
       "      <td>entropy</td>\n",
       "      <td>30</td>\n",
       "      <td>0.7</td>\n",
       "      <td>1</td>\n",
       "      <td>10</td>\n",
       "      <td>-1</td>\n",
       "      <td>{'bootstrap': True, 'criterion': 'entropy', 'm...</td>\n",
       "      <td>0.566871</td>\n",
       "      <td>0.570209</td>\n",
       "      <td>0.571193</td>\n",
       "      <td>0.568933</td>\n",
       "      <td>0.562206</td>\n",
       "      <td>0.567882</td>\n",
       "      <td>0.003185</td>\n",
       "      <td>1</td>\n",
       "    </tr>\n",
       "  </tbody>\n",
       "</table>\n",
       "</div>"
      ],
      "text/plain": [
       "   mean_fit_time  std_fit_time  mean_score_time  std_score_time  \\\n",
       "3      30.241315      0.518757         0.329206        0.022174   \n",
       "\n",
       "  param_bootstrap param_criterion param_max_depth param_max_features  \\\n",
       "3            True         entropy              30                0.7   \n",
       "\n",
       "  param_min_samples_leaf param_min_samples_split param_n_jobs  \\\n",
       "3                      1                      10           -1   \n",
       "\n",
       "                                              params  split0_test_score  \\\n",
       "3  {'bootstrap': True, 'criterion': 'entropy', 'm...           0.566871   \n",
       "\n",
       "   split1_test_score  split2_test_score  split3_test_score  split4_test_score  \\\n",
       "3           0.570209           0.571193           0.568933           0.562206   \n",
       "\n",
       "   mean_test_score  std_test_score  rank_test_score  \n",
       "3         0.567882        0.003185                1  "
      ]
     },
     "metadata": {},
     "execution_count": 35
    }
   ],
   "metadata": {
    "id": "WDCQVgGZStvl"
   }
  },
  {
   "cell_type": "code",
   "execution_count": null,
   "source": [
    "RFC = RandomForestClassifier(criterion='entropy',max_depth=50,bootstrap=True,min_samples_split=5,min_samples_leaf=1,\n",
    "                            max_features=0.7,n_jobs=-1,random_state=0)\n",
    "\n",
    "RFC.fit(x_train2,y_train)\n",
    "\n",
    "y_pred = RFC.predict(x_valid2)\n",
    "accuracy = accuracy_score(y_valid,y_pred)\n"
   ],
   "outputs": [],
   "metadata": {}
  },
  {
   "cell_type": "code",
   "execution_count": 14,
   "source": [
    "accuracy"
   ],
   "outputs": [
    {
     "output_type": "execute_result",
     "data": {
      "text/plain": [
       "0.615218535791584"
      ]
     },
     "metadata": {},
     "execution_count": 14
    }
   ],
   "metadata": {}
  },
  {
   "cell_type": "code",
   "execution_count": 15,
   "source": [
    "f1score = f1_score(y_valid,y_pred,average='weighted')\n",
    "f1score"
   ],
   "outputs": [
    {
     "output_type": "execute_result",
     "data": {
      "text/plain": [
       "0.600189853035171"
      ]
     },
     "metadata": {},
     "execution_count": 15
    }
   ],
   "metadata": {}
  }
 ],
 "metadata": {
  "colab": {
   "collapsed_sections": [],
   "name": "grid_search_cv.ipynb",
   "provenance": []
  },
  "kernelspec": {
   "display_name": "Python 3 (ipykernel)",
   "language": "python",
   "name": "python3"
  },
  "language_info": {
   "codemirror_mode": {
    "name": "ipython",
    "version": 3
   },
   "file_extension": ".py",
   "mimetype": "text/x-python",
   "name": "python",
   "nbconvert_exporter": "python",
   "pygments_lexer": "ipython3",
   "version": "3.9.5"
  }
 },
 "nbformat": 4,
 "nbformat_minor": 1
}